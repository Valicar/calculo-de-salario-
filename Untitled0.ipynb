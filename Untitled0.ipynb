{
  "nbformat": 4,
  "nbformat_minor": 0,
  "metadata": {
    "colab": {
      "provenance": [],
      "authorship_tag": "ABX9TyOL5gm8H5R76kI/BEtUx5Ty",
      "include_colab_link": true
    },
    "kernelspec": {
      "name": "python3",
      "display_name": "Python 3"
    },
    "language_info": {
      "name": "python"
    }
  },
  "cells": [
    {
      "cell_type": "markdown",
      "metadata": {
        "id": "view-in-github",
        "colab_type": "text"
      },
      "source": [
        "<a href=\"https://colab.research.google.com/github/Valicar/PracticaJavaScript-node/blob/master/Untitled0.ipynb\" target=\"_parent\"><img src=\"https://colab.research.google.com/assets/colab-badge.svg\" alt=\"Open In Colab\"/></a>"
      ]
    },
    {
      "cell_type": "code",
      "execution_count": 22,
      "metadata": {
        "colab": {
          "base_uri": "https://localhost:8080/"
        },
        "id": "Ho8hGe7jalTd",
        "outputId": "47c764f9-14ea-4162-fd70-66540287ded6"
      },
      "outputs": [
        {
          "output_type": "stream",
          "name": "stdout",
          "text": [
            "digite valor da hora de trabalho6.25\n",
            "digite total de horas trabajadas208\n",
            "+ salario: R$1300.00\n",
            "- imposto(11%): R$143.00\n",
            "- inss (8%): R$104.00\n",
            "- inss (5%): R$65.00\n",
            "= Salario liquidi: R$988.00\n",
            "\n"
          ]
        }
      ],
      "source": [
        "#calculo salaria\n",
        "horaV =  float(input(\"digite valor da hora de trabalho\"))\n",
        "horaT = float(input(\"digite total de horas trabajadas\"))\n",
        "salario= horaT * horaV\n",
        "\n",
        "\n",
        "imposto = salario * 11/100\n",
        "inss= salario * 8/100 \n",
        "sindicato = salario * 5/100\n",
        "salarioL = salario - imposto - inss - sindicato\n",
        "\n",
        "print(\n",
        "    f\"+ salario: R${salario:.2f}\\n\"\n",
        "    f\"- imposto(11%): R${imposto:.2f}\\n\"\n",
        "    f\"- inss (8%): R${inss:.2f}\\n\"\n",
        "    f\"- inss (5%): R${sindicato:.2f}\\n\"\n",
        "    f\"= Salario liquidi: R${salarioL:.2f}\\n\")\n",
        "\n",
        "\n",
        "\n",
        "\n"
      ]
    },
    {
      "cell_type": "code",
      "source": [],
      "metadata": {
        "id": "9wkQZplGcyiB"
      },
      "execution_count": null,
      "outputs": []
    }
  ]
}